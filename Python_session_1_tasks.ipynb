{
  "nbformat": 4,
  "nbformat_minor": 0,
  "metadata": {
    "colab": {
      "provenance": [],
      "include_colab_link": true
    },
    "kernelspec": {
      "name": "python3",
      "display_name": "Python 3"
    },
    "language_info": {
      "name": "python"
    }
  },
  "cells": [
    {
      "cell_type": "markdown",
      "metadata": {
        "id": "view-in-github",
        "colab_type": "text"
      },
      "source": [
        "<a href=\"https://colab.research.google.com/github/MDSHAHBAZALAM786/Colab-Notebook/blob/main/Python_session_1_tasks.ipynb\" target=\"_parent\"><img src=\"https://colab.research.google.com/assets/colab-badge.svg\" alt=\"Open In Colab\"/></a>"
      ]
    },
    {
      "cell_type": "markdown",
      "source": [
        "# Task : Session 1\n",
        "Solve these questions own your own and try to test yourself what you have learned in the session.\n",
        "\n",
        "Happy Learning!"
      ],
      "metadata": {
        "id": "A05OG15VqOPF"
      }
    },
    {
      "cell_type": "markdown",
      "source": [
        "### Q1 :- Print the given strings as per stated format.\n",
        "\n",
        "**Given strings**:\n",
        "```\n",
        "\"Data\" \"Science\" \"Mentorship\" \"Program\"\n",
        "\"By\" \"CampusX\"\n",
        "```\n",
        "**Output**:\n",
        "```\n",
        "Data-Science-Mentorship-Program-started-By-CampusX\n",
        "```\n",
        "\n",
        "Concept- [Seperator and End]"
      ],
      "metadata": {
        "id": "2doIXf8bqe9_"
      }
    },
    {
      "cell_type": "code",
      "source": [
        "# Write your code here\n",
        "print(\"Data\", \"Science\", \"Mentorship\", \"Program\", sep=\"-\", end=\"-started-\")\n",
        "print(\"By\", \"CampusX\", sep=\"-\")"
      ],
      "metadata": {
        "id": "-em6d3KErDtp",
        "outputId": "69acbb3f-6094-45e9-ff74-3a8632eb5473",
        "colab": {
          "base_uri": "https://localhost:8080/"
        }
      },
      "execution_count": null,
      "outputs": [
        {
          "output_type": "stream",
          "name": "stdout",
          "text": [
            "Data-Science-Mentorship-Program-started-By-CampusX\n"
          ]
        }
      ]
    },
    {
      "cell_type": "markdown",
      "source": [
        "### Q2:- Write a program that will convert celsius value to fahrenheit."
      ],
      "metadata": {
        "id": "1KUpN7ZTrC3_"
      }
    },
    {
      "cell_type": "code",
      "source": [
        "# Write your code here\n",
        "celsius = float(input(\"Enter temperature in Celsius: \"))\n",
        "fahrenheit = (celsius * 9/5) + 32\n",
        "print(\"Temperature in Fahrenheit:\", fahrenheit)"
      ],
      "metadata": {
        "id": "yxKYhYQiqWfj",
        "outputId": "8ac1e48f-c3ce-437c-a9d9-1b644e8dc2a2",
        "colab": {
          "base_uri": "https://localhost:8080/"
        }
      },
      "execution_count": null,
      "outputs": [
        {
          "output_type": "stream",
          "name": "stdout",
          "text": [
            "Enter temperature in Celsius: 102\n",
            "Temperature in Fahrenheit: 215.6\n"
          ]
        }
      ]
    },
    {
      "cell_type": "markdown",
      "source": [
        "### Q3:- Take 2 numbers as input from the user.Write a program to swap the numbers without using any special python syntax."
      ],
      "metadata": {
        "id": "RLrOBBJurLB2"
      }
    },
    {
      "cell_type": "code",
      "source": [
        "# Write your code here\n",
        "x = int(input(\"Enter first number: \"))\n",
        "y = int(input(\"Enter second number: \"))\n",
        "\n",
        "temp = x\n",
        "x = y\n",
        "y = temp\n",
        "\n",
        "print(\"After swapping: First =\", x, \"Second =\", y)"
      ],
      "metadata": {
        "id": "yPn7if0TrJ4F",
        "outputId": "fd7eb55e-7c33-4e4f-9019-5aaad677a053",
        "colab": {
          "base_uri": "https://localhost:8080/"
        }
      },
      "execution_count": null,
      "outputs": [
        {
          "output_type": "stream",
          "name": "stdout",
          "text": [
            "Enter first number: 2\n",
            "Enter second number: 3\n",
            "After swapping: First = 3 Second = 2\n"
          ]
        }
      ]
    },
    {
      "cell_type": "markdown",
      "source": [
        "### Q4:- Write a program to find the euclidean distance between two coordinates.Take both the coordinates from the user as input."
      ],
      "metadata": {
        "id": "waLCP1bjr7ML"
      }
    },
    {
      "cell_type": "code",
      "source": [
        "# Write your code here\n",
        "import math\n",
        "x1 = float(input(\"Enter x1: \"))\n",
        "y1 = float(input(\"Enter y1: \"))\n",
        "x2 = float(input(\"Enter x2: \"))\n",
        "y2 = float(input(\"Enter y2: \"))\n",
        "\n",
        "distance = math.sqrt((x2 - x1)**2 + (y2 - y1)**2)\n",
        "print(\"Euclidean Distance:\", distance)"
      ],
      "metadata": {
        "id": "Pl1Sv-xnrxnH",
        "outputId": "033f2ece-c4bd-443a-f4e2-13abf76d1964",
        "colab": {
          "base_uri": "https://localhost:8080/"
        }
      },
      "execution_count": null,
      "outputs": [
        {
          "output_type": "stream",
          "name": "stdout",
          "text": [
            "Enter x1: 5\n",
            "Enter y1: 2\n",
            "Enter x2: 7\n",
            "Enter y2: 3\n",
            "Euclidean Distance: 2.23606797749979\n"
          ]
        }
      ]
    },
    {
      "cell_type": "markdown",
      "source": [
        "### Q5:- Write a program to find the simple interest when the value of principle,rate of interest and time period is provided by the user.\n"
      ],
      "metadata": {
        "id": "VLrhg-FRsHjR"
      }
    },
    {
      "cell_type": "code",
      "source": [
        "# Write your code here\n",
        "P = float(input(\"Enter principal amount: \"))\n",
        "R = float(input(\"Enter rate of interest: \"))\n",
        "T = float(input(\"Enter time in years: \"))\n",
        "\n",
        "SI = (P * R * T) / 100\n",
        "print(\"Simple Interest:\", SI)"
      ],
      "metadata": {
        "id": "s40DlReZsTmY",
        "outputId": "31e40cf0-4a91-4b29-95eb-0b2ab8046e40",
        "colab": {
          "base_uri": "https://localhost:8080/"
        }
      },
      "execution_count": null,
      "outputs": [
        {
          "output_type": "stream",
          "name": "stdout",
          "text": [
            "Enter principal amount: 60000\n",
            "Enter rate of interest: 2.5\n",
            "Enter time in years: 4.5\n",
            "Simple Interest: 6750.0\n"
          ]
        }
      ]
    },
    {
      "cell_type": "markdown",
      "source": [
        "### Q6:- Write a program that will tell the number of dogs and chicken are there when the user will provide the value of total heads and legs.\n",
        "\n",
        "For example:\n",
        "Input:\n",
        "heads -> 4\n",
        "legs -> 12\n",
        "<br>\n",
        "Output:\n",
        "dogs -> 2\n",
        "chicken -> 2\n",
        "\n",
        "\n",
        "\n"
      ],
      "metadata": {
        "id": "LMy0BTUktYKa"
      }
    },
    {
      "cell_type": "code",
      "source": [
        "# Write your code here\n",
        "heads = int(input(\"Enter total heads: \"))\n",
        "legs = int(input(\"Enter total legs: \"))\n",
        "\n",
        "# Let dogs = d, chickens = c\n",
        "# c + d = heads\n",
        "# 2c + 4d = legs\n",
        "dogs = (legs - 2 * heads) // 2\n",
        "chickens = heads - dogs\n",
        "\n",
        "print(\"Dogs:\", dogs)\n",
        "print(\"Chickens:\", chickens)"
      ],
      "metadata": {
        "id": "XSBvJoA4tXaG",
        "outputId": "130e372c-1605-44cf-9d96-106bbe0b07b7",
        "colab": {
          "base_uri": "https://localhost:8080/"
        }
      },
      "execution_count": null,
      "outputs": [
        {
          "output_type": "stream",
          "name": "stdout",
          "text": [
            "Enter total heads: 6\n",
            "Enter total legs: 20\n",
            "Dogs: 4\n",
            "Chickens: 2\n"
          ]
        }
      ]
    },
    {
      "cell_type": "markdown",
      "source": [
        "### Q7:- Write a program to find the sum of squares of first n natural numbers where n will be provided by the user."
      ],
      "metadata": {
        "id": "gJ7C5kZYt4BP"
      }
    },
    {
      "cell_type": "code",
      "source": [
        "# Write your code here\n",
        "n = int(input(\"Enter n: \"))\n",
        "sum_squares = (n * (n + 1) * (2*n + 1)) // 6\n",
        "print(\"Sum of squares:\", sum_squares)"
      ],
      "metadata": {
        "id": "_tHsmEHzt2nX",
        "outputId": "1092f55d-3f54-46ef-d3ca-d9f0a4a6dde1",
        "colab": {
          "base_uri": "https://localhost:8080/"
        }
      },
      "execution_count": null,
      "outputs": [
        {
          "output_type": "stream",
          "name": "stdout",
          "text": [
            "Enter n: 4\n",
            "Sum of squares: 30\n"
          ]
        }
      ]
    },
    {
      "cell_type": "markdown",
      "source": [
        "### Q8:- Given the first 2 terms of an Arithmetic Series.Find the Nth term of the series. Assume all inputs are provided by the user."
      ],
      "metadata": {
        "id": "FHrMM7g-yG1h"
      }
    },
    {
      "cell_type": "code",
      "source": [
        "# Write your code here\n",
        "a1 = float(input(\"Enter first term: \"))\n",
        "a2 = float(input(\"Enter second term: \"))\n",
        "n = int(input(\"Enter term number (n): \"))\n",
        "\n",
        "d = a2 - a1\n",
        "nth_term = a1 + (n - 1) * d\n",
        "print(f\"The {n}th term of the series is:\", nth_term)"
      ],
      "metadata": {
        "id": "go4_kmZmyVSx",
        "outputId": "f84be581-dc4c-402b-dbea-5c48b4fd75d2",
        "colab": {
          "base_uri": "https://localhost:8080/"
        }
      },
      "execution_count": null,
      "outputs": [
        {
          "output_type": "stream",
          "name": "stdout",
          "text": [
            "Enter first term: 2\n",
            "Enter second term: 4\n",
            "Enter term number (n): 8\n",
            "The 8th term of the series is: 16.0\n"
          ]
        }
      ]
    },
    {
      "cell_type": "markdown",
      "source": [
        "### Q9:- Given 2 fractions, find the sum of those 2 fractions.Take the numerator and denominator values of the fractions from the user."
      ],
      "metadata": {
        "id": "QgyRX_es1oum"
      }
    },
    {
      "cell_type": "code",
      "source": [
        "# Write your code here\n",
        "from math import gcd\n",
        "\n",
        "n1 = int(input(\"Enter numerator of first fraction: \"))\n",
        "d1 = int(input(\"Enter denominator of first fraction: \"))\n",
        "n2 = int(input(\"Enter numerator of second fraction: \"))\n",
        "d2 = int(input(\"Enter denominator of second fraction: \"))\n",
        "\n",
        "num = n1 * d2 + n2 * d1\n",
        "den = d1 * d2\n",
        "\n",
        "g = gcd(num, den)\n",
        "num //= g\n",
        "den //= g\n",
        "\n",
        "print(\"Sum of fractions:\", f\"{num}/{den}\")"
      ],
      "metadata": {
        "id": "X05xqFS1yW16",
        "outputId": "db2d8713-de98-463c-bb7b-b19acaf8aa3e",
        "colab": {
          "base_uri": "https://localhost:8080/"
        }
      },
      "execution_count": null,
      "outputs": [
        {
          "output_type": "stream",
          "name": "stdout",
          "text": [
            "Enter numerator of first fraction: 10\n",
            "Enter denominator of first fraction: 3\n",
            "Enter numerator of second fraction: 20\n",
            "Enter denominator of second fraction: 5\n",
            "Sum of fractions: 22/3\n"
          ]
        }
      ]
    },
    {
      "cell_type": "markdown",
      "source": [
        "### Q10:- Given the height, width and breadth of a milk tank, you have to find out how many glasses of milk can be obtained? Assume all the inputs are provided by the user.\n",
        "\n",
        "\n",
        "\n",
        "Input:<br>\n",
        "Dimensions of the milk tank<br>\n",
        "H = 20cm, L = 20cm, B = 20cm\n",
        "<br><br>\n",
        "Dimensions of the glass<br>\n",
        "h = 3cm, r = 1cm"
      ],
      "metadata": {
        "id": "eaql38ln13u7"
      }
    },
    {
      "cell_type": "code",
      "source": [
        "# Write your code here\n",
        "import math\n",
        "H = float(input(\"Enter height of tank: \"))\n",
        "L = float(input(\"Enter length of tank: \"))\n",
        "B = float(input(\"Enter breadth of tank: \"))\n",
        "\n",
        "h = float(input(\"Enter height of glass: \"))\n",
        "r = float(input(\"Enter radius of glass: \"))\n",
        "\n",
        "tank_volume = H * L * B\n",
        "glass_volume = math.pi * (r**2) * h\n",
        "\n",
        "glasses = tank_volume // glass_volume\n",
        "print(\"Number of glasses of milk:\", int(glasses))"
      ],
      "metadata": {
        "id": "FePZqno74eWv",
        "outputId": "f9bb7156-a413-4a17-890d-8de05298ae53",
        "colab": {
          "base_uri": "https://localhost:8080/"
        }
      },
      "execution_count": null,
      "outputs": [
        {
          "output_type": "stream",
          "name": "stdout",
          "text": [
            "Enter height of tank: 50\n",
            "Enter length of tank: 20\n",
            "Enter breadth of tank: 12\n",
            "Enter height of glass: 3.5\n",
            "Enter radius of glass: 2\n",
            "Number of glasses of milk: 272\n"
          ]
        }
      ]
    }
  ]
}